{
 "cells": [
  {
   "cell_type": "markdown",
   "metadata": {},
   "source": [
    "![diabetes](images/diabetes.png)"
   ]
  },
  {
   "cell_type": "markdown",
   "metadata": {},
   "source": [
    "# Detecting Diabetes with Machine Learning\n",
    "\n",
    "**Authors:** Ian Butler, Red the dog\n",
    "\n",
    "***"
   ]
  },
  {
   "cell_type": "markdown",
   "metadata": {},
   "source": [
    "## Overview\n",
    "\n",
    "A one-paragraph overview of the project, including the problem, data, methods, results and recommendations.\n",
    "\n",
    "***"
   ]
  },
  {
   "cell_type": "markdown",
   "metadata": {},
   "source": [
    "## Problem\n",
    "\n",
    "A summary of the problem we are trying to solve and the questions that we plan to answer to solve it.\n",
    "\n",
    "This summary, taken from the dataset's home on Kaggle, describes the problem quite well:\n",
    "\n",
    "\"Diabetes is among the most prevalent chronic diseases in the United States, impacting millions of Americans each year and exerting a significant financial burden on the economy. Diabetes is a serious chronic disease in which individuals lose the ability to effectively regulate levels of glucose in the blood, and can lead to reduced quality of life and life expectancy. After different foods are broken down into sugars during digestion, the sugars are then released into the bloodstream. This signals the pancreas to release insulin. Insulin helps enable cells within the body to use those sugars in the bloodstream for energy. Diabetes is generally characterized by either the body not making enough insulin or being unable to use the insulin that is made as effectively as needed.\n",
    "\n",
    "Complications like heart disease, vision loss, lower-limb amputation, and kidney disease are associated with chronically high levels of sugar remaining in the bloodstream for those with diabetes. While there is no cure for diabetes, strategies like losing weight, eating healthily, being active, and receiving medical treatments can mitigate the harms of this disease in many patients. Early diagnosis can lead to lifestyle changes and more effective treatment, making predictive models for diabetes risk important tools for public and public health officials.\n",
    "\n",
    "The scale of this problem is also important to recognize. The Centers for Disease Control and Prevention has indicated that as of 2018, 34.2 million Americans have diabetes and 88 million have prediabetes. Furthermore, the CDC estimates that 1 in 5 diabetics, and roughly 8 in 10 prediabetics are unaware of their risk. While there are different types of diabetes, type II diabetes is the most common form and its prevalence varies by age, education, income, location, race, and other social determinants of health. Much of the burden of the disease falls on those of lower socioeconomic status as well. Diabetes also places a massive burden on the economy, with diagnosed diabetes costs of roughly 327 billion dollars and total costs with undiagnosed diabetes and prediabetes approaching 400 billion dollars annually.\"\n",
    "\n",
    "***\n",
    "\n",
    "Questions to consider:\n",
    "\n",
    "* What are the organization's pain points related to this project?\n",
    "    * Ultimately, being able to identify diabetes quickly and early is the best defense against it.\n",
    "* What questions are we trying to answer?\n",
    "    * First, can we predict whether a respondent in our data has diabetes?\n",
    "    * Second, if we can make this prediction, which features of the dataset are most influential in making that prediction?\n",
    "    * Third, how many of those features do we need to know to make that prediction?\n",
    "* Why are these questions important from the organization's perspective?\n",
    "    * With respect to the first, we can determine the probability of individuals unseen by the model having diabetes.\n",
    "    * With respect to the second, we can identify which of these features are most worth devoting resources to.\n",
    "    * With respect to the third, we can make the simplest model possible, in order to use it as a tool or app.\n",
    "\n",
    "***"
   ]
  },
  {
   "cell_type": "markdown",
   "metadata": {},
   "source": [
    "## Data Understanding\n",
    "\n",
    "A description of the data being used for this project.\n",
    "\n",
    "***\n",
    "\n",
    "Questions to consider:\n",
    "\n",
    "* Where did the data come from?\n",
    "* How does it relate to the questions?\n",
    "* What does the data represent?\n",
    "* Who is in the sample?\n",
    "* What variables are included?\n",
    "* What is the target variable?\n",
    "* Which variables do we intend to use?\n",
    "\n",
    "***"
   ]
  },
  {
   "cell_type": "code",
   "execution_count": null,
   "metadata": {},
   "outputs": [],
   "source": [
    "# Import standard packages\n",
    "import pandas as pd\n",
    "import numpy as np\n",
    "import matplotlib.pyplot as plt\n",
    "import seaborn as sns\n",
    "\n",
    "%matplotlib inline"
   ]
  },
  {
   "cell_type": "code",
   "execution_count": null,
   "metadata": {},
   "outputs": [],
   "source": [
    "# here we run our code to explore the data"
   ]
  },
  {
   "cell_type": "markdown",
   "metadata": {},
   "source": [
    "## Data Preparation\n",
    "\n",
    "A description and justification of the process for preparing the data.\n",
    "\n",
    "***\n",
    "\n",
    "Questions to consider:\n",
    "* Were there variables we dropped?\n",
    "* Were there variables we created?\n",
    "* How did we address missing values?\n",
    "* How did we address outliers?\n",
    "* Why are these choices appropriate given the data and the problem?\n",
    "\n",
    "***"
   ]
  },
  {
   "cell_type": "code",
   "execution_count": null,
   "metadata": {},
   "outputs": [],
   "source": [
    "# here we run our code to clean the data"
   ]
  },
  {
   "cell_type": "markdown",
   "metadata": {},
   "source": [
    "## Data Modeling\n",
    "\n",
    "A description and justification of the process for analyzing or modeling the data.\n",
    "\n",
    "***\n",
    "\n",
    "Questions to consider:\n",
    "* How did we analyze or model the data?\n",
    "* How did we iterate on our initial approach to make it better?\n",
    "* Why are these choices appropriate given the data and the problem?\n",
    "\n",
    "***"
   ]
  },
  {
   "cell_type": "code",
   "execution_count": null,
   "metadata": {},
   "outputs": [],
   "source": [
    "# here we run our code to model the data"
   ]
  },
  {
   "cell_type": "markdown",
   "metadata": {},
   "source": [
    "## Evaluation\n",
    "\n",
    "An evaluation of how well our work solves the stated problem.\n",
    "\n",
    "***\n",
    "\n",
    "Questions to consider:\n",
    "* How do we interpret the results?\n",
    "* How well does our model fit our data?\n",
    "* How much better is this model than our baseline model?\n",
    "* How confident are we that our results would generalize beyond the data we have?\n",
    "* How confident are we that this model would benefit the organization if put into use?\n",
    "\n",
    "***"
   ]
  },
  {
   "cell_type": "markdown",
   "metadata": {},
   "source": [
    "## Conclusions\n",
    "\n",
    "A provision of our conclusions about the work we've done, including any limitations or next steps.\n",
    "\n",
    "***\n",
    "\n",
    "Questions to consider:\n",
    "* What would we recommend the organiation do as a result of this work?\n",
    "* What are some reasons why our analysis might not fully solve the problem?\n",
    "* What else could we do in the future to improve this project?\n",
    "\n",
    "***"
   ]
  }
 ],
 "metadata": {
  "kernelspec": {
   "display_name": "Python 3",
   "language": "python",
   "name": "python3"
  },
  "language_info": {
   "codemirror_mode": {
    "name": "ipython",
    "version": 3
   },
   "file_extension": ".py",
   "mimetype": "text/x-python",
   "name": "python",
   "nbconvert_exporter": "python",
   "pygments_lexer": "ipython3",
   "version": "3.8.5"
  }
 },
 "nbformat": 4,
 "nbformat_minor": 4
}
