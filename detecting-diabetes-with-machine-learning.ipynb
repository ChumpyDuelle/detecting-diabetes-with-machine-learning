{
 "cells": [
  {
   "cell_type": "markdown",
   "metadata": {},
   "source": [
    "![diabetes](images/diabetes.png)"
   ]
  },
  {
   "cell_type": "markdown",
   "metadata": {},
   "source": [
    "# Detecting Diabetes with Machine Learning\n",
    "\n",
    "**Authors:** Ian Butler, Red the dog\n",
    "\n",
    "***"
   ]
  },
  {
   "cell_type": "markdown",
   "metadata": {},
   "source": [
    "## Overview\n",
    "\n",
    "A one-paragraph overview of the project, including the problem, data, methods, results and recommendations.\n",
    "\n",
    "***"
   ]
  },
  {
   "cell_type": "markdown",
   "metadata": {},
   "source": [
    "## Problem\n",
    "\n",
    "A summary of the problem we are trying to solve and the questions that we plan to answer to solve it.\n",
    "\n",
    "***\n",
    "\n",
    "Questions to consider:\n",
    "\n",
    "* What are the organization's pain points related to this project?\n",
    "* How did we pick the questions that you did?\n",
    "* Why are these questions important from the organization's perspective?\n",
    "\n",
    "***"
   ]
  },
  {
   "cell_type": "markdown",
   "metadata": {},
   "source": [
    "## Data Understanding\n",
    "\n",
    "A description of the data being used for this project.\n",
    "\n",
    "***\n",
    "\n",
    "Questions to consider:\n",
    "\n",
    "* Where did the data come from?\n",
    "* How does it relate to the questions?\n",
    "* What does the data represent?\n",
    "* Who is in the sample?\n",
    "* What variables are included?\n",
    "* What is the target variable?\n",
    "* Which variables do we intend to use?\n",
    "\n",
    "***"
   ]
  },
  {
   "cell_type": "code",
   "execution_count": null,
   "metadata": {},
   "outputs": [],
   "source": [
    "# Import standard packages\n",
    "import pandas as pd\n",
    "import numpy as np\n",
    "import matplotlib.pyplot as plt\n",
    "import seaborn as sns\n",
    "\n",
    "%matplotlib inline"
   ]
  },
  {
   "cell_type": "code",
   "execution_count": null,
   "metadata": {},
   "outputs": [],
   "source": [
    "# here we run our code to explore the data"
   ]
  },
  {
   "cell_type": "markdown",
   "metadata": {},
   "source": [
    "## Data Preparation\n",
    "\n",
    "A description and justification of the process for preparing the data.\n",
    "\n",
    "***\n",
    "\n",
    "Questions to consider:\n",
    "* Were there variables we dropped?\n",
    "* Were there variables we created?\n",
    "* How did we address missing values?\n",
    "* How did we address outliers?\n",
    "* Why are these choices appropriate given the data and the problem?\n",
    "\n",
    "***"
   ]
  },
  {
   "cell_type": "code",
   "execution_count": null,
   "metadata": {},
   "outputs": [],
   "source": [
    "# here we run our code to clean the data"
   ]
  },
  {
   "cell_type": "markdown",
   "metadata": {},
   "source": [
    "## Data Modeling\n",
    "\n",
    "A description and justification of the process for analyzing or modeling the data.\n",
    "\n",
    "***\n",
    "\n",
    "Questions to consider:\n",
    "* How did we analyze or model the data?\n",
    "* How did we iterate on our initial approach to make it better?\n",
    "* Why are these choices appropriate given the data and the problem?\n",
    "\n",
    "***"
   ]
  },
  {
   "cell_type": "code",
   "execution_count": null,
   "metadata": {},
   "outputs": [],
   "source": [
    "# here we run our code to model the data"
   ]
  },
  {
   "cell_type": "markdown",
   "metadata": {},
   "source": [
    "## Evaluation\n",
    "\n",
    "An evaluation of how well our work solves the stated problem.\n",
    "\n",
    "***\n",
    "\n",
    "Questions to consider:\n",
    "* How do we interpret the results?\n",
    "* How well does our model fit our data?\n",
    "* How much better is this model than our baseline model?\n",
    "* How confident are we that our results would generalize beyond the data we have?\n",
    "* How confident are we that this model would benefit the organization if put into use?\n",
    "\n",
    "***"
   ]
  },
  {
   "cell_type": "markdown",
   "metadata": {},
   "source": [
    "## Conclusions\n",
    "\n",
    "A provision of our conclusions about the work we've done, including any limitations or next steps.\n",
    "\n",
    "***\n",
    "\n",
    "Questions to consider:\n",
    "* What would we recommend the organiation do as a result of this work?\n",
    "* What are some reasons why our analysis might not fully solve the problem?\n",
    "* What else could we do in the future to improve this project?\n",
    "\n",
    "***"
   ]
  }
 ],
 "metadata": {
  "kernelspec": {
   "display_name": "Python 3",
   "language": "python",
   "name": "python3"
  },
  "language_info": {
   "codemirror_mode": {
    "name": "ipython",
    "version": 3
   },
   "file_extension": ".py",
   "mimetype": "text/x-python",
   "name": "python",
   "nbconvert_exporter": "python",
   "pygments_lexer": "ipython3",
   "version": "3.8.5"
  }
 },
 "nbformat": 4,
 "nbformat_minor": 4
}
